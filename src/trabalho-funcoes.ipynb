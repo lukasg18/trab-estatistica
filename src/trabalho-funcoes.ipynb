{
 "cells": [
  {
   "cell_type": "code",
   "execution_count": 1,
   "metadata": {},
   "outputs": [],
   "source": [
    "import numpy as np\n",
    "import matplotlib.mlab as mlab\n",
    "import matplotlib.pyplot as plt\n",
    "import pandas as pd\n",
    "import texttable as tt"
   ]
  },
  {
   "cell_type": "markdown",
   "metadata": {},
   "source": [
    "### Tratamento de arquivo de amostra"
   ]
  },
  {
   "cell_type": "code",
   "execution_count": 2,
   "metadata": {},
   "outputs": [],
   "source": [
    "def getAmostraCsv(filename):\n",
    "    amostra_csv = pd.read_csv(filename)\n",
    "    # dividindo todos valores por 100\n",
    "    amostra_csv[\"Valor Parcela\"] = amostra_csv[\"Valor Parcela\"].map(lambda x : x / 100)\n",
    "    return amostra_csv"
   ]
  },
  {
   "cell_type": "markdown",
   "metadata": {},
   "source": [
    "### Média"
   ]
  },
  {
   "cell_type": "code",
   "execution_count": 3,
   "metadata": {},
   "outputs": [],
   "source": [
    "def calculaMedia(listaDados):\n",
    "    somatorio = 0\n",
    "    media = 0 \n",
    "    tam = len(listaDados) #quantidade total da amostra\n",
    "    for valor in listaDados:\n",
    "        somatorio = somatorio + valor;\n",
    "    #fim  for\n",
    "    media = somatorio/tam\n",
    "\n",
    "    return media\n",
    "#fim função media"
   ]
  },
  {
   "cell_type": "markdown",
   "metadata": {},
   "source": [
    "### Moda"
   ]
  },
  {
   "cell_type": "code",
   "execution_count": 4,
   "metadata": {},
   "outputs": [],
   "source": [
    "def caculaOcorrencias(listaChaves, dicDados):\n",
    "    maior = 0\n",
    "    moda = 0\n",
    "\n",
    "    for chave in listaChaves:\n",
    "        if dicDados[chave] > maior:\n",
    "            moda = chave\n",
    "            maior = dicDados[chave]\n",
    "        #fim if \n",
    "    #fim for\n",
    "\n",
    "    return moda\n",
    "#fim função\n",
    "\n",
    "def calculaModa(listaDados):\n",
    "    dicDados = {} \t#dicionario de ocorrencias\n",
    "\n",
    "    for valor in listaDados:\n",
    "        if valor in dicDados.keys():\n",
    "            dicDados[valor] = dicDados[valor]+1\n",
    "        else:\n",
    "            dicDados[valor] = 1\n",
    "    #fim for\n",
    "\n",
    "    listaChaves = dicDados.keys()\n",
    "    moda = caculaOcorrencias(listaChaves, dicDados)\n",
    "\n",
    "    return moda\n",
    "#fim função moda"
   ]
  },
  {
   "cell_type": "markdown",
   "metadata": {},
   "source": [
    "### Mediana"
   ]
  },
  {
   "cell_type": "code",
   "execution_count": 5,
   "metadata": {},
   "outputs": [],
   "source": [
    "def ehPar(listaDados):\n",
    "\n",
    "    if len(listaDados)%2 == 0:\n",
    "        return True\n",
    "    #fim if\n",
    "\n",
    "    return False\n",
    "#fim função\n",
    "\n",
    "def calculaMediana(listaDados):\t\n",
    "    # Verifica se o tamanho da lista é par\n",
    "    if ehPar:\n",
    "        pos1 = listaDados[int((len(listaDados)/2))]\n",
    "        pos2 = listaDados[int((\n",
    "            (len(listaDados) + 2) /2\n",
    "        ))]\n",
    "        media = calculaMedia([pos1,pos2])\n",
    "        return media\n",
    "    #Se for impar\n",
    "    else:\n",
    "        pos = listaDados[int(len(listaDados)/2)]\n",
    "        return pos\n",
    "#fim função mediana"
   ]
  },
  {
   "cell_type": "markdown",
   "metadata": {},
   "source": [
    "### Variância"
   ]
  },
  {
   "cell_type": "code",
   "execution_count": 6,
   "metadata": {},
   "outputs": [],
   "source": [
    "def calculaVariancia(listaDados):\n",
    "    media = calculaMedia(listaDados)\n",
    "    somatorio = 0\n",
    "    tam = len(listaDados)\n",
    "    variancia = 0\n",
    "\n",
    "    for valor in listaDados:\n",
    "        somatorio = somatorio + ((valor - media) ** 2)\n",
    "    #fim for \n",
    "    variancia = somatorio/tam-1\n",
    "\n",
    "    return variancia\n",
    "#fim função variancia"
   ]
  },
  {
   "cell_type": "markdown",
   "metadata": {},
   "source": [
    "### Desvio padrão"
   ]
  },
  {
   "cell_type": "code",
   "execution_count": 7,
   "metadata": {},
   "outputs": [],
   "source": [
    "def verificaDesvioPadrao(listaDados):\n",
    "    variancia = calculaVariancia(listaDados)\n",
    "    variancia = variancia ** (1/2)\n",
    "    return variancia\n",
    "##fim função Desvio padrão"
   ]
  },
  {
   "cell_type": "markdown",
   "metadata": {},
   "source": [
    "### Medidas boxplot"
   ]
  },
  {
   "cell_type": "code",
   "execution_count": 8,
   "metadata": {},
   "outputs": [],
   "source": [
    "def percentil(arr, i):\n",
    "    pos = int(( len(arr) * i ) / 100)\n",
    "    return arr[pos]\n",
    "    \n",
    "def medidas_boxplot(arr):\n",
    "    # quartil 1\n",
    "    q1 = percentil(arr, 25)\n",
    "    # quartil 2\n",
    "    q2 = percentil(arr, 50)\n",
    "    # quartil 3\n",
    "    q3 = percentil(arr, 75)\n",
    "    \n",
    "    aiq = q3 - q1\n",
    "    val_max = q3 + (1.5 * aiq)\n",
    "    val_min = q1 - (1.5 * aiq)\n",
    "    return (val_min, q1, q2, q3, val_max)"
   ]
  },
  {
   "cell_type": "markdown",
   "metadata": {},
   "source": [
    "### Medidas de simetria"
   ]
  },
  {
   "cell_type": "code",
   "execution_count": 9,
   "metadata": {},
   "outputs": [],
   "source": [
    "def simetria(arr):\n",
    "    media = calculaMedia(arr)\n",
    "    moda = calculaModa(arr)\n",
    "    desvioP = verificaDesvioPadrao(arr)\n",
    "    simetria_valor = (media - moda) / desvioP\n",
    "    s = ''\n",
    "    if simetria_valor < 0.15:\n",
    "        s = 'Moderadamente Simétrica'\n",
    "    elif 0.15 <= simetria_valor and simetria_valor < 1:\n",
    "        s = 'Moderadamente Assimétrica'\n",
    "    else:\n",
    "        s = 'Fortemente Assimétrica'\n",
    "    return s"
   ]
  },
  {
   "cell_type": "markdown",
   "metadata": {},
   "source": [
    "### Momentos"
   ]
  },
  {
   "cell_type": "code",
   "execution_count": 10,
   "metadata": {},
   "outputs": [],
   "source": [
    "def momentos(arr, m, a=0):\n",
    "    acc = 0\n",
    "    for i in arr: acc = acc + ((i-a)**m)\n",
    "    return acc / len(arr)"
   ]
  },
  {
   "cell_type": "markdown",
   "metadata": {},
   "source": [
    "### Curtose"
   ]
  },
  {
   "cell_type": "code",
   "execution_count": 11,
   "metadata": {},
   "outputs": [],
   "source": [
    "def curtose(arr):\n",
    "    q3 = percentil(arr, 75)\n",
    "    q1 = percentil(arr, 25)\n",
    "    p90 = percentil(arr, 90)\n",
    "    p10 = percentil(arr, 10)\n",
    "    k = (q3 - q1) /  (2 * (p90-p10))\n",
    "    if k == 0.263:\n",
    "        return 'Mesocúrtica'\n",
    "    elif k > 0.263:\n",
    "        return 'Platicúrtica'\n",
    "    else:\n",
    "        return 'Leptocúrtica'\n",
    "\n",
    "def curtose_por_momentos(arr):\n",
    "    m4 = momentos(arr, 4, calculaMedia(arr))\n",
    "    k = m4 / (verificaDesvioPadrao(arr)**4)\n",
    "    if k == 3:\n",
    "        return 'Mesocúrtica'\n",
    "    elif k < 3:\n",
    "        return 'Platicúrtica'\n",
    "    else:\n",
    "        return 'Leptocúrtica'"
   ]
  },
  {
   "cell_type": "code",
   "execution_count": 12,
   "metadata": {},
   "outputs": [
    {
     "name": "stdout",
     "output_type": "stream",
     "text": [
      "Média: 179.39\n",
      "Moda: 124.00\n",
      "Mediana: 163.00\n",
      "Variância: 10615.37\n",
      "Desvio padrão: 103.03\n",
      "Simetria: Moderadamente Assimétrica\n",
      "Medidas do boxplot: (-46.5, 117.0, 163.0, 226.0, 389.5)\n",
      "Curtose: Leptocúrtica\n"
     ]
    }
   ],
   "source": [
    "# Obtendo dados do csv\n",
    "amostra_csv = getAmostraCsv(\"dezembro.csv\")\n",
    "# Ordenando lista\n",
    "valor_parcela = np.array(sorted(amostra_csv[\"Valor Parcela\"]))\n",
    "\n",
    "print(\"Média: %.2f\" %(calculaMedia(valor_parcela)))\n",
    "print(\"Moda: %.2f\" %(calculaModa(valor_parcela)))\n",
    "print(\"Mediana: %.2f\" %(calculaMediana(valor_parcela)))\n",
    "print(\"Variância: %.2f\" %(calculaVariancia(valor_parcela)))\n",
    "print(\"Desvio padrão: %.2f\" %(verificaDesvioPadrao(valor_parcela)))\n",
    "print(\"Simetria: %s\" %(simetria(valor_parcela)))\n",
    "print(\"Medidas do boxplot: \" + str(medidas_boxplot(valor_parcela)))\n",
    "print(\"Curtose: %s\" %(curtose_por_momentos(valor_parcela)))"
   ]
  }
 ],
 "metadata": {
  "kernelspec": {
   "display_name": "Python 3",
   "language": "python",
   "name": "python3"
  },
  "language_info": {
   "codemirror_mode": {
    "name": "ipython",
    "version": 3
   },
   "file_extension": ".py",
   "mimetype": "text/x-python",
   "name": "python",
   "nbconvert_exporter": "python",
   "pygments_lexer": "ipython3",
   "version": "3.6.5"
  }
 },
 "nbformat": 4,
 "nbformat_minor": 2
}
