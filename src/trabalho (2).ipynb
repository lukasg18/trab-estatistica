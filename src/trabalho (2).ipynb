{
 "cells": [
  {
   "cell_type": "code",
   "execution_count": 71,
   "metadata": {},
   "outputs": [],
   "source": [
    "import numpy as np\n",
    "import matplotlib.mlab as mlab\n",
    "import matplotlib.pyplot as plt\n",
    "import pandas as pd\n",
    "import texttable as tt"
   ]
  },
  {
   "cell_type": "markdown",
   "metadata": {},
   "source": [
    "### Tratando os arquivos"
   ]
  },
  {
   "cell_type": "code",
   "execution_count": 77,
   "metadata": {},
   "outputs": [],
   "source": [
    "class Amostra:\n",
    "    \n",
    "    def __init__(self, filename):\n",
    "        if (filename is None or len(filename) == 0):\n",
    "            raise Exception('Parâmetro com nome do arquvio csv de amostra é obrigatório!')\n",
    "        self._csv = pd.read_csv(filename)\n",
    "        # dividindo todos valores por 100\n",
    "        self._csv[\"Valor Parcela\"] = self._csv[\"Valor Parcela\"].map(lambda x : float(x) / 100)\n",
    "        self.ufs = {}\n",
    "        self.municipios = {}\n",
    "        self.classes = {}\n",
    "        self._setUfs()\n",
    "        self._setMunicipios()\n",
    "        self._setClasses()\n",
    "        \n",
    "    def _setUfs(self):\n",
    "        for i in range(len(self._csv)):\n",
    "            uf = self._csv.UF[i]\n",
    "            nomeMunicipio = self._csv[\"Nome Municipio\"][i]\n",
    "            if uf not in self.ufs:\n",
    "                self.ufs[uf] = []\n",
    "            if nomeMunicipio not in self.ufs[uf]:\n",
    "                self.ufs[uf].append(nomeMunicipio)\n",
    "        return 0\n",
    "    \n",
    "    def _setMunicipios(self):\n",
    "        for i in range(len(self._csv)):\n",
    "            nomeMunicipio = self._csv[\"Nome Municipio\"][i]\n",
    "            valorParcela = self._csv[\"Valor Parcela\"][i]\n",
    "            if nomeMunicipio not in self.municipios:\n",
    "                self.municipios[nomeMunicipio] = []\n",
    "            self.municipios[nomeMunicipio].append(valorParcela)\n",
    "    \n",
    "    def _setClasses(self):\n",
    "        # self.classes = {(0, 99): [ qtdPessoas, freqAcc, medIntervalo, medClasse ]}\n",
    "        for i in range(0, 1000, 100): self.classes[(i, i+99)] = [0, 0, (i + i+99)/2, 0]\n",
    "        for municipio in self.municipios:\n",
    "            for valor in self.municipios[municipio]:\n",
    "                anterior = None\n",
    "                for intervalo in self.classes:\n",
    "                    if self._isBetween(intervalo, valor):\n",
    "                        self.classes[intervalo][0] += 1 # atdPessoas\n",
    "                        ############ freqAcc ###################################################################\n",
    "                        if anterior is not None:\n",
    "                            self.classes[intervalo][1] = self.classes[intervalo][0] + self.classes[anterior][1]\n",
    "                        else:\n",
    "                            self.classes[intervalo][1] += 1\n",
    "                        ########################################################################################\n",
    "                        self.classes[intervalo][3] = np.average([self.classes[intervalo][3], valor]) # medClasse\n",
    "                        break\n",
    "                    anterior = intervalo\n",
    "    \n",
    "    # Verifica se o valor está dentro do intervalo\n",
    "    def _isBetween(self, intervalo, valor):\n",
    "        return valor >= intervalo[0] and valor <= intervalo[1]"
   ]
  },
  {
   "cell_type": "markdown",
   "metadata": {},
   "source": [
    "### Criando tabela de frequência e histograma com dados csv"
   ]
  },
  {
   "cell_type": "code",
   "execution_count": 78,
   "metadata": {
    "scrolled": false
   },
   "outputs": [],
   "source": [
    "amostra = Amostra('amostra.csv')\n",
    "data = []\n",
    "tabela = tt.Texttable()\n",
    "tabela.header(['Intervalo', 'Média do intervalo', 'Frequência'])\n",
    "\n",
    "for intervalo in amostra.classes:\n",
    "    i = 0\n",
    "    for n in [amostra.classes[intervalo][2]] * amostra.classes[intervalo][0]:\n",
    "        data.append(n)\n",
    "        i+=1\n",
    "    tabela.add_row([intervalo, amostra.classes[intervalo][2], i])"
   ]
  },
  {
   "cell_type": "markdown",
   "metadata": {},
   "source": [
    "### Exibindo tabela de frequência e diagramas"
   ]
  },
  {
   "cell_type": "code",
   "execution_count": 79,
   "metadata": {},
   "outputs": [
    {
     "name": "stdout",
     "output_type": "stream",
     "text": [
      "+------------+--------------------+------------+\n",
      "| Intervalo  | Média do intervalo | Frequência |\n",
      "+============+====================+============+\n",
      "| (0, 99)    | 49.500             | 2365       |\n",
      "+------------+--------------------+------------+\n",
      "| (100, 199) | 149.500            | 4156       |\n",
      "+------------+--------------------+------------+\n",
      "| (200, 299) | 249.500            | 2281       |\n",
      "+------------+--------------------+------------+\n",
      "| (300, 399) | 349.500            | 760        |\n",
      "+------------+--------------------+------------+\n",
      "| (400, 499) | 449.500            | 271        |\n",
      "+------------+--------------------+------------+\n",
      "| (500, 599) | 549.500            | 118        |\n",
      "+------------+--------------------+------------+\n",
      "| (600, 699) | 649.500            | 28         |\n",
      "+------------+--------------------+------------+\n",
      "| (700, 799) | 749.500            | 10         |\n",
      "+------------+--------------------+------------+\n",
      "| (800, 899) | 849.500            | 4          |\n",
      "+------------+--------------------+------------+\n",
      "| (900, 999) | 949.500            | 5          |\n",
      "+------------+--------------------+------------+\n"
     ]
    },
    {
     "data": {
      "image/png": "[encoded data removed]",
      "text/plain": [
       "<Figure size 432x288 with 1 Axes>"
      ]
     },
     "metadata": {},
     "output_type": "display_data"
    }
   ],
   "source": [
    "print(tabela.draw())\n",
    "plt.hist(data)\n",
    "plt.title(\"Bolsa família 2017\")\n",
    "plt.xlabel(\"Valor em R$\")\n",
    "plt.ylabel(\"Frequência\")\n",
    "plt.show()"
   ]
  }
 ],
 "metadata": {
  "kernelspec": {
   "display_name": "Python 3",
   "language": "python",
   "name": "python3"
  },
  "language_info": {
   "codemirror_mode": {
    "name": "ipython",
    "version": 3
   },
   "file_extension": ".py",
   "mimetype": "text/x-python",
   "name": "python",
   "nbconvert_exporter": "python",
   "pygments_lexer": "ipython3",
   "version": "3.6.5"
  }
 },
 "nbformat": 4,
 "nbformat_minor": 2
}
