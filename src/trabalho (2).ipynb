{
 "cells": [
  {
   "cell_type": "code",
   "execution_count": 1,
   "metadata": {},
   "outputs": [],
   "source": [
    "import numpy as np\n",
    "import matplotlib.mlab as mlab\n",
    "import matplotlib.pyplot as plt\n",
    "import pandas as pd"
   ]
  },
  {
   "cell_type": "markdown",
   "metadata": {},
   "source": [
    "### tratando os arquivos"
   ]
  },
  {
   "cell_type": "code",
   "execution_count": 35,
   "metadata": {},
   "outputs": [],
   "source": [
    "class Amostra:\n",
    "    \n",
    "    def __init__(self, filename):\n",
    "        if (filename is None or len(filename) == 0):\n",
    "            raise Exception('Parâmetro com nome do arquvio csv de amostra é obrigatório!')\n",
    "        self._csv = pd.read_csv(filename)\n",
    "        # dividindo todos valores por 100\n",
    "        self._csv[\"Valor Parcela\"] = self._csv[\"Valor Parcela\"].map(lambda x : float(x) / 100)\n",
    "        self.ufs = {}\n",
    "        self.municipios = {}\n",
    "        self.classes = {}\n",
    "        self._setUfs()\n",
    "        self._setMunicipios()\n",
    "        self._setClasses()\n",
    "        \n",
    "    def _setUfs(self):\n",
    "        for i in range(len(self._csv)):\n",
    "            uf = self._csv.UF[i]\n",
    "            nomeMunicipio = self._csv[\"Nome Municipio\"][i]\n",
    "            if uf not in self.ufs:\n",
    "                self.ufs[uf] = []\n",
    "            if nomeMunicipio not in self.ufs[uf]:\n",
    "                self.ufs[uf].append(nomeMunicipio)\n",
    "        return 0\n",
    "    \n",
    "    def _setMunicipios(self):\n",
    "        for i in range(len(self._csv)):\n",
    "            nomeMunicipio = self._csv[\"Nome Municipio\"][i]\n",
    "            valorParcela = self._csv[\"Valor Parcela\"][i]\n",
    "            if nomeMunicipio not in self.municipios:\n",
    "                self.municipios[nomeMunicipio] = []\n",
    "            self.municipios[nomeMunicipio].append(valorParcela)\n",
    "    \n",
    "    def _setClasses(self):\n",
    "        # self.classes = {(0, 99): [ qtdPessoas, freqAcc, medIntervalo, medClasse ]}\n",
    "        for i in range(0, 1000, 100): self.classes[(i, i+99)] = [0, 0, (i + i+99)/2, 0]\n",
    "        for municipio in self.municipios:\n",
    "            for valor in self.municipios[municipio]:\n",
    "                anterior = None\n",
    "                for intervalo in self.classes:\n",
    "                    if self._isBetween(intervalo, valor):\n",
    "                        self.classes[intervalo][0] += 1 # atdPessoas\n",
    "                        ############ freqAcc ###################################################################\n",
    "                        if anterior is not None:\n",
    "                            self.classes[intervalo][1] = self.classes[intervalo][0] + self.classes[anterior][1]\n",
    "                        else:\n",
    "                            self.classes[intervalo][1] += 1\n",
    "                        ########################################################################################\n",
    "                        self.classes[intervalo][3] = np.average([self.classes[intervalo][3], valor]) # medClasse\n",
    "                        break\n",
    "                    anterior = intervalo\n",
    "    \n",
    "    # Verifica se o valor está dentro do intervalo\n",
    "    def _isBetween(self, intervalo, valor):\n",
    "        return valor >= intervalo[0] and valor <= intervalo[1]"
   ]
  },
  {
   "cell_type": "code",
   "execution_count": 37,
   "metadata": {},
   "outputs": [
    {
     "data": {
      "text/plain": [
       "{(0, 99): [2365, 2365, 49.5, 77.95037244368423],\n",
       " (100, 199): [4156, 6521, 149.5, 154.7830643193031],\n",
       " (200, 299): [2281, 8799, 249.5, 221.8779921723608],\n",
       " (300, 399): [760, 9546, 349.5, 341.8676080761734],\n",
       " (400, 499): [271, 9631, 449.5, 455.7549972956278],\n",
       " (500, 599): [118, 9749, 549.5, 517.1427662300262],\n",
       " (600, 699): [28, 9615, 649.5, 614.7299312502146],\n",
       " (700, 799): [10, 9625, 749.5, 760.71875],\n",
       " (800, 899): [4, 2834, 849.5, 805.875],\n",
       " (900, 999): [5, 2839, 949.5, 896.8125]}"
      ]
     },
     "execution_count": 37,
     "metadata": {},
     "output_type": "execute_result"
    }
   ],
   "source": [
    "amostra = Amostra('amostra.csv')\n",
    "amostra.classes"
   ]
  },
  {
   "cell_type": "markdown",
   "metadata": {},
   "source": [
    "### funcao media"
   ]
  },
  {
   "cell_type": "code",
   "execution_count": 36,
   "metadata": {},
   "outputs": [],
   "source": [
    "def media():\n",
    "    return 0\n",
    "    "
   ]
  }
 ],
 "metadata": {
  "kernelspec": {
   "display_name": "Python 3",
   "language": "python",
   "name": "python3"
  },
  "language_info": {
   "codemirror_mode": {
    "name": "ipython",
    "version": 3
   },
   "file_extension": ".py",
   "mimetype": "text/x-python",
   "name": "python",
   "nbconvert_exporter": "python",
   "pygments_lexer": "ipython3",
   "version": "3.6.5"
  }
 },
 "nbformat": 4,
 "nbformat_minor": 2
}
