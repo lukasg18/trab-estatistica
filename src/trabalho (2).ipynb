{
 "cells": [
  {
   "cell_type": "code",
   "execution_count": 1,
   "metadata": {},
   "outputs": [],
   "source": [
    "import numpy as np\n",
    "import matplotlib.mlab as mlab\n",
    "import matplotlib.pyplot as plt\n",
    "import pandas as pd"
   ]
  },
  {
   "cell_type": "markdown",
   "metadata": {},
   "source": [
    "### tratando os arquivos"
   ]
  },
  {
   "cell_type": "code",
   "execution_count": 87,
   "metadata": {},
   "outputs": [],
   "source": [
    "class Amostra:\n",
    "    \n",
    "    def __init__(self, filename):\n",
    "        if (filename is None or len(filename) == 0):\n",
    "            raise Exception('Parâmetro com nome do arquvio csv de amostra é obrigatório!')\n",
    "        self._csv = pd.read_csv(filename)\n",
    "        self.ufs = {}\n",
    "        self.municipios = {}\n",
    "        self.classes = {}\n",
    "        self._setUfs()\n",
    "        self._setMunicipios()\n",
    "        self._setClasses()\n",
    "        \n",
    "    def _setUfs(self):\n",
    "        for i in range(len(self._csv)):\n",
    "            uf = self._csv.UF[i]\n",
    "            nomeMunicipio = self._csv[\"Nome Municipio\"][i]\n",
    "            if uf not in self.ufs:\n",
    "                self.ufs[uf] = []\n",
    "            if nomeMunicipio not in self.ufs[uf]:\n",
    "                self.ufs[uf].append(nomeMunicipio)\n",
    "        return 0\n",
    "    \n",
    "    def _setMunicipios(self):\n",
    "        for i in range(50):\n",
    "            nomeMunicipio = self._csv[\"Nome Municipio\"][i]\n",
    "            valorParcela = self._csv[\"Valor Parcela\"][i]\n",
    "            if nomeMunicipio not in self.municipios:\n",
    "                self.municipios[nomeMunicipio] = []\n",
    "            self.municipios[nomeMunicipio].append(valorParcela)\n",
    "    \n",
    "    def _setClasses(self):\n",
    "        intervalo = () # chave (intervalos de 100)\n",
    "        qtdPessoas = 0 # fi\n",
    "        freqAcc = 0 # fa\n",
    "        medIntervalo = 0 # med(xi)\n",
    "        medClasse = 0 # medIntervalo * qtdPessoas\n",
    "        # self.classes = {(0, 99): [ qtdPessoas, freqAcc, medIntervalo, medClasse ]}"
   ]
  },
  {
   "cell_type": "code",
   "execution_count": 86,
   "metadata": {},
   "outputs": [
    {
     "data": {
      "text/plain": [
       "{'ALTAMIRA': [31300.0],\n",
       " 'ARACUAI': [8500.0],\n",
       " 'ARAGUAINA': [12400.0],\n",
       " 'ARAPIRACA': [20200.0],\n",
       " 'BARREIROS': [25500.0],\n",
       " 'BELEM': [12400.0, 22600.0, 8500.0],\n",
       " 'BRAGANCA': [20200.0],\n",
       " 'CAMPO LARGO': [12400.0],\n",
       " 'CANARANA': [21800.0],\n",
       " 'CAPANEMA': [11700.0],\n",
       " 'CARANDAI': [17000.0],\n",
       " 'CARPINA': [12400.0],\n",
       " 'CASCAVEL': [24100.0],\n",
       " 'CASTANHAL': [29400.0],\n",
       " 'CRATEUS': [30100.0],\n",
       " 'CUNHA': [7800.0],\n",
       " 'FORTALEZA': [12400.0, 14700.0],\n",
       " 'GOIANIA': [8500.0],\n",
       " 'ICO': [29300.0],\n",
       " 'IRECE': [17000.0],\n",
       " 'ITAPETINGA': [17200.0],\n",
       " 'JANAUBA': [14200.0],\n",
       " 'JUAZEIRO DO NORTE': [3900.0],\n",
       " 'JUNDIAI': [16300.0],\n",
       " 'LABREA': [14100.0],\n",
       " 'LIMOEIRO': [22500.0],\n",
       " 'NATAL': [12400.0],\n",
       " 'NITEROI': [24700.0],\n",
       " \"NOVA BRASILANDIA D'OESTE\": [12400.0],\n",
       " 'OEIRAS': [8500.0],\n",
       " 'OURICURI': [28900.0],\n",
       " 'PELOTAS': [7800.0],\n",
       " 'PICOS': [24100.0],\n",
       " 'PRESIDENTE PRUDENTE': [8500.0],\n",
       " 'RECIFE': [3900.0],\n",
       " 'RIO GRANDE': [7800.0],\n",
       " 'SALVADOR': [12400.0, 11300.0],\n",
       " 'SANTA INES': [16300.0],\n",
       " 'SANTALUZ': [25700.0],\n",
       " 'SAO LUIS': [16300.0],\n",
       " 'SAO PAULO': [8500.0, 17000.0],\n",
       " 'SAO RAIMUNDO NONATO': [32700.0],\n",
       " 'SENA MADUREIRA': [42700.0],\n",
       " 'SOBRAL': [16300.0],\n",
       " 'VITORIA DE SANTO ANTAO': [29400.0]}"
      ]
     },
     "execution_count": 86,
     "metadata": {},
     "output_type": "execute_result"
    }
   ],
   "source": [
    "amostra = Amostra('amostra.csv')\n",
    "amostra.municipios"
   ]
  },
  {
   "cell_type": "markdown",
   "metadata": {},
   "source": [
    "### funcao media"
   ]
  },
  {
   "cell_type": "code",
   "execution_count": 3,
   "metadata": {},
   "outputs": [],
   "source": [
    "def media():\n",
    "    "
   ]
  }
 ],
 "metadata": {
  "kernelspec": {
   "display_name": "Python 3",
   "language": "python",
   "name": "python3"
  },
  "language_info": {
   "codemirror_mode": {
    "name": "ipython",
    "version": 3
   },
   "file_extension": ".py",
   "mimetype": "text/x-python",
   "name": "python",
   "nbconvert_exporter": "python",
   "pygments_lexer": "ipython3",
   "version": "3.6.3"
  }
 },
 "nbformat": 4,
 "nbformat_minor": 2
}
